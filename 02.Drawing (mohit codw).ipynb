{
 "cells": [
  {
   "cell_type": "code",
   "execution_count": 2,
   "id": "4d8f6a24-bb4d-407d-8283-4d9cabf99fd8",
   "metadata": {},
   "outputs": [],
   "source": [
    "import cv2\n",
    "import matplotlib.pyplot as plt\n",
    "import numpy as np"
   ]
  },
  {
   "cell_type": "code",
   "execution_count": 3,
   "id": "e929ed38-46ec-4b20-b291-32c77237a5dc",
   "metadata": {},
   "outputs": [],
   "source": [
    "#read the image\n",
    "image = cv2.imread('images/lenna.png')"
   ]
  },
  {
   "cell_type": "raw",
   "id": "36104991-2f69-46fb-b2f7-e95b57eacfab",
   "metadata": {},
   "source": [
    "# Define starting & ending points of  the line\n",
    "start_point = (100, 50) # (x1, y1)\n",
    "end_point = (300, 200)  # (x2, y2)\n",
    "\n",
    "# Draw  a green line with thickness of 2 pixels\n",
    "\n",
    "#cv2.line(image, start_point, end_point, (255, 0, 0), 2);\n",
    "cv2.line(image, start_point, end_point, (0, 255, 0), 2);\n",
    "\n",
    "cv2.imshow('Imag with Line', image)\n",
    "cv2.waitKey(0)\n",
    "cv2.destroyAllWindows()"
   ]
  },
  {
   "cell_type": "code",
   "execution_count": 4,
   "id": "b5836593-6b17-41cc-a0ed-d6d1cb162e4f",
   "metadata": {},
   "outputs": [
    {
     "ename": "error",
     "evalue": "OpenCV(4.10.0) D:\\a\\opencv-python\\opencv-python\\opencv\\modules\\highgui\\src\\window.cpp:973: error: (-215:Assertion failed) size.width>0 && size.height>0 in function 'cv::imshow'\n",
     "output_type": "error",
     "traceback": [
      "\u001b[1;31m---------------------------------------------------------------------------\u001b[0m",
      "\u001b[1;31merror\u001b[0m                                     Traceback (most recent call last)",
      "Cell \u001b[1;32mIn[4], line 10\u001b[0m\n\u001b[0;32m      5\u001b[0m \u001b[38;5;66;03m# Draw  a green line with thickness of 2 pixels\u001b[39;00m\n\u001b[0;32m      6\u001b[0m \n\u001b[0;32m      7\u001b[0m \u001b[38;5;66;03m#cv2.line(image, start_point, end_point, (255, 0, 0), 2);\u001b[39;00m\n\u001b[0;32m      8\u001b[0m cv2\u001b[38;5;241m.\u001b[39mline(image, start_point, end_point, (\u001b[38;5;241m0\u001b[39m, \u001b[38;5;241m0\u001b[39m, \u001b[38;5;241m255\u001b[39m), \u001b[38;5;241m2\u001b[39m);\n\u001b[1;32m---> 10\u001b[0m \u001b[43mcv2\u001b[49m\u001b[38;5;241;43m.\u001b[39;49m\u001b[43mimshow\u001b[49m\u001b[43m(\u001b[49m\u001b[38;5;124;43m'\u001b[39;49m\u001b[38;5;124;43mImag with Line\u001b[39;49m\u001b[38;5;124;43m'\u001b[39;49m\u001b[43m,\u001b[49m\u001b[43m \u001b[49m\u001b[43mimage\u001b[49m\u001b[43m)\u001b[49m\n\u001b[0;32m     11\u001b[0m cv2\u001b[38;5;241m.\u001b[39mwaitKey(\u001b[38;5;241m0\u001b[39m)\n\u001b[0;32m     12\u001b[0m cv2\u001b[38;5;241m.\u001b[39mdestroyAllWindows()\n",
      "\u001b[1;31merror\u001b[0m: OpenCV(4.10.0) D:\\a\\opencv-python\\opencv-python\\opencv\\modules\\highgui\\src\\window.cpp:973: error: (-215:Assertion failed) size.width>0 && size.height>0 in function 'cv::imshow'\n"
     ]
    }
   ],
   "source": [
    "# Define starting & ending points of  the line\n",
    "start_point = (0, 00) # (x1, y1)\n",
    "end_point = (512, 512)  # (x2, y2)\n",
    "\n",
    "# Draw  a green line with thickness of 2 pixels\n",
    "\n",
    "#cv2.line(image, start_point, end_point, (255, 0, 0), 2);\n",
    "cv2.line(image, start_point, end_point, (0, 0, 255), 2);\n",
    "\n",
    "cv2.imshow('Imag with Line', image)\n",
    "cv2.waitKey(0)\n",
    "cv2.destroyAllWindows()"
   ]
  },
  {
   "cell_type": "code",
   "execution_count": null,
   "id": "24f819f8-b246-4607-b9d8-b1c71607cedd",
   "metadata": {},
   "outputs": [],
   "source": [
    "# Define starting & ending points of  the line\n",
    "start_point = (0, 512) # (x1, y1)\n",
    "end_point = (512, 0)  # (x2, y2)\n",
    "\n",
    "# Draw  a green line with thickness of 2 pixels\n",
    "\n",
    "#cv2.line(image, start_point, end_point, (255, 0, 0), 2);\n",
    "cv2.line(image, start_point, end_point, (0, 0, 255), 2);\n",
    "\n",
    "cv2.imshow('Imag with Line', image)\n",
    "cv2.waitKey(0)\n",
    "cv2.destroyAllWindows()"
   ]
  },
  {
   "cell_type": "markdown",
   "id": "a0d30f55-0085-4965-85dc-57b5a8855ff7",
   "metadata": {},
   "source": [
    "### Draw using Equation"
   ]
  },
  {
   "cell_type": "code",
   "execution_count": null,
   "id": "d105e1a0-2062-4580-96bd-4b3d6b0b975c",
   "metadata": {},
   "outputs": [],
   "source": [
    "x = np.arange(1, 100, 0.25)"
   ]
  },
  {
   "cell_type": "code",
   "execution_count": null,
   "id": "87948176-ed19-407a-9342-12f7ff7c582b",
   "metadata": {
    "scrolled": true
   },
   "outputs": [],
   "source": [
    "x"
   ]
  },
  {
   "cell_type": "code",
   "execution_count": null,
   "id": "dfff2f02-f504-480b-88a8-7f588d02c8c0",
   "metadata": {},
   "outputs": [],
   "source": [
    "y = 7.8 * x + 34.0288"
   ]
  },
  {
   "cell_type": "code",
   "execution_count": null,
   "id": "872b36c1-c1f4-4b9b-ac67-9b93e282fb50",
   "metadata": {
    "scrolled": true
   },
   "outputs": [],
   "source": [
    "y"
   ]
  },
  {
   "cell_type": "code",
   "execution_count": null,
   "id": "e309c84d-0d6a-46e9-8475-af0b98a25db8",
   "metadata": {},
   "outputs": [],
   "source": [
    "plt.scatter(x, y, marker = '.')\n",
    "plt.plot(x, y, color='orange')"
   ]
  },
  {
   "cell_type": "markdown",
   "id": "fd51fbc1-41b3-42bb-b308-be5067fe3098",
   "metadata": {},
   "source": [
    "### Drawing a 3D line"
   ]
  },
  {
   "cell_type": "code",
   "execution_count": null,
   "id": "0e7ebdcd-6947-49f1-a589-4720a349b3a5",
   "metadata": {},
   "outputs": [],
   "source": [
    "from mpl_toolkits.mplot3d import Axes3D\n",
    "import matplotlib.pyplot as plt\n",
    "\n",
    "# Define Start and end points of the line in 3D space\n",
    "start_point = (10, 22, 33)\n",
    "end_point = (44, 52, 67)\n",
    "\n",
    "# Create a 3D Plot\n",
    "fig = plt.figure()\n",
    "ax = fig.add_subplot(111, projection='3d')\n",
    "\n",
    "# Plot the Line\n",
    "ax.plot([start_point[0], end_point[0]],\n",
    "        [start_point[0], end_point[0]],\n",
    "        [start_point[0], end_point[0]], 'r-')\n",
    "\n",
    "# Set labels and title\n",
    "ax.set_xlabel('X')\n",
    "ax.set_ylabel('Y')\n",
    "ax.set_zlabel('Z')\n",
    "ax.set_title('3D Line')\n",
    "\n",
    "# Show the plot\n",
    "plt.show()"
   ]
  },
  {
   "cell_type": "markdown",
   "id": "4be4de51-779d-47be-b07e-63342595e122",
   "metadata": {},
   "source": [
    "### Line Using Turtle"
   ]
  },
  {
   "cell_type": "code",
   "execution_count": null,
   "id": "006a9d77-50ec-4f3b-8721-b64e4d72b441",
   "metadata": {},
   "outputs": [],
   "source": [
    "# import turtle\n",
    "\n",
    "# # Create a turtle object\n",
    "# t = turtle.Turtle()\n",
    "\n",
    "# # Set the line width (Optional)\n",
    "# t.pensize(1)\n",
    "\n",
    "# # Move the Turtle to the Starting position\n",
    "# t.penup()\n",
    "# t.goto(0, -50) # Replace with your desired starting coordinates (x, y)\n",
    "# t.pendown()\n",
    "\n",
    "# # Move the turtle to the ending position (drawing the line)\n",
    "# t.goto(300, 0) # Replace with your desired ending coordinates (x, y)\n",
    "\n",
    "# # Kepp the window open until closed manually\n",
    "# turtle.done()"
   ]
  },
  {
   "cell_type": "markdown",
   "id": "647c43bf-a9b8-4bc5-9f0f-292157672506",
   "metadata": {},
   "source": [
    "### Rectangle Drawing"
   ]
  },
  {
   "cell_type": "code",
   "execution_count": null,
   "id": "edb17296-c750-45c9-8d22-0d93b8f6b2bd",
   "metadata": {},
   "outputs": [],
   "source": [
    "# Load your Image\n",
    "image = cv2.imread('Images/lenna.png')\n",
    "\n",
    "# Define top-left corner & dimensions\n",
    "x, y, w, h = 100, 50, 200, 150\n",
    "\n",
    "# Draw a blue rectangle with thickness of 2 pixels\n",
    "cv2.rectangle(image, (x, y), (x + w, y + h), (255, 0, 0), 10)\n",
    "\n",
    "# Show the Rectangle\n",
    "cv2.imshow(\"Image with Rectangle\", image)\n",
    "cv2.waitKey(0)\n",
    "cv2.destroyAllWindows()"
   ]
  },
  {
   "cell_type": "code",
   "execution_count": null,
   "id": "5ab612e5-d342-486e-be73-befaddc92b54",
   "metadata": {},
   "outputs": [],
   "source": [
    "# Load your Image\n",
    "image = cv2.imread('Images/lenna.png')\n",
    "\n",
    "# Define top-left corner & dimensions\n",
    "x, y, w, h = 0, 0, 512, 512\n",
    "\n",
    "# Draw a blue rectangle with thickness of 2 pixels\n",
    "cv2.rectangle(image, (x, y), (x + w, y + h), (0, 255, 255), 10)\n",
    "\n",
    "# Show the Rectangle\n",
    "cv2.imshow(\"Image with Rectangle\", image)\n",
    "cv2.waitKey(0)\n",
    "cv2.destroyAllWindows()"
   ]
  },
  {
   "cell_type": "code",
   "execution_count": null,
   "id": "457d0f14-555f-4720-96d9-6314bb3ac5a0",
   "metadata": {},
   "outputs": [],
   "source": [
    "# Load your Image\n",
    "image = cv2.imread('Images/lenna.png')\n",
    "\n",
    "# Define top-left corner & dimensions\n",
    "x, y, w, h = 0, 0, 256, 256\n",
    " \n",
    "# Draw a blue rectangle with thickness of 2 pixels\n",
    "\n",
    "\n",
    "cv2.rectangle(image, (0,0), (255,255), (255, 255, 0), 10)\n",
    "cv2.rectangle(image, (0,255), (255,511), (0,255, 255), 10)\n",
    "cv2.rectangle(image, (256,256), (511,511), (0, 0, 255), 10)\n",
    "cv2.rectangle(image, (256,0), (511,256), (0, 255, 0), 10)\n",
    "\n",
    "# Show the Rectangle\n",
    "cv2.imshow(\"Image with Rectangle\", image)\n",
    "cv2.waitKey(0)\n",
    "cv2.destroyAllWindows()"
   ]
  },
  {
   "cell_type": "code",
   "execution_count": null,
   "id": "4afd3f49-b917-402f-a79f-43b7e0dba9cf",
   "metadata": {},
   "outputs": [],
   "source": [
    "image = np.ones([200,300]) - 0.25\n",
    "cv2.rectangle(image, (50, 50), (250, 150), (0, 140, 0), 10)\n",
    "cv2.imshow('Sample Image', image)\n",
    "cv2.waitKey(0)\n",
    "cv2.destroyAllWindows()"
   ]
  },
  {
   "cell_type": "markdown",
   "id": "aa159dd3-3c27-44fb-b40e-04338047919c",
   "metadata": {},
   "source": [
    "### Rectangle using Matplotlib"
   ]
  },
  {
   "cell_type": "code",
   "execution_count": null,
   "id": "75cb5bb5-e246-4464-8d4a-5ea7cee89e7b",
   "metadata": {},
   "outputs": [],
   "source": [
    "import matplotlib.pyplot as plt\n",
    "\n",
    "# Define rectangle coordinates\n",
    "x_min, y_min, x_max, y_max = 1, 2, 4, 7\n",
    "\n",
    "# Create the Rectangle Patch\n",
    "rectangle = plt.Rectangle((x_min, y_min), x_max - x_min, y_max - y_min,\n",
    "                         color = 'red', alpha = 0.1)\n",
    "\n",
    "# Add the rectangle to a plot and customise label/title\n",
    "plt.plot([x_min, x_max],[y_min, y_min], 'b-', label='X-axis')\n",
    "plt.plot([x_min, x_min],[y_min, y_max], 'g-', label='Y-axis')\n",
    "plt.gca().add_patch(rectangle)\n",
    "plt.xlabel(\"X\")\n",
    "plt.ylabel(\"Y\")\n",
    "plt.title(\"Rectangle Plot\")\n",
    "plt.legend()\n",
    "\n",
    "plt.show()\n",
    "\n",
    "\n"
   ]
  },
  {
   "cell_type": "markdown",
   "id": "c296929c-7845-46e3-a10a-78e0ff822112",
   "metadata": {},
   "source": [
    "## Rectangle using Turtle object"
   ]
  },
  {
   "cell_type": "code",
   "execution_count": null,
   "id": "3eb701b3-1b26-442a-bc30-3e54cf7caf9f",
   "metadata": {},
   "outputs": [],
   "source": [
    "import turtle"
   ]
  },
  {
   "cell_type": "code",
   "execution_count": null,
   "id": "a14767ea-f450-442c-b6a1-e1cfa7312ac3",
   "metadata": {},
   "outputs": [],
   "source": [
    "# # create a Turtle object\n",
    "# t = turtle.Turtle()\n",
    "# #set color and pen size\n",
    "# t.color(\"green\")\n",
    "# t.pensize(5)\n",
    "# t.speed(0)\n",
    "# #Move the turtle and draw the rectangle\n",
    "# t.penup()\n",
    "# t.goto(-50,25)\n",
    "# t.pendown()\n",
    "# t.forward(100)\n",
    "# t.left(90)\n",
    "# t.forward(50)\n",
    "# t.left(90)\n",
    "# t.forward(100)\n",
    "# t.left(90)\n",
    "# t.forward(50)\n",
    "# t.hideturtle()\n",
    "# turtle.done()"
   ]
  },
  {
   "cell_type": "markdown",
   "id": "43fbfb2e-d185-4494-95ad-39aa6f6abc46",
   "metadata": {},
   "source": [
    "### Drawing the ellipse"
   ]
  },
  {
   "cell_type": "code",
   "execution_count": null,
   "id": "496791f3-b085-435c-92a3-deb5b651b92b",
   "metadata": {},
   "outputs": [],
   "source": [
    "## Load an image\n",
    "image = cv2.imread(\"images/Lenna.png\")\n",
    "\n",
    "#Define center coordinates, radii, and angle\n",
    "center = (150, 100) #(X, Y)\n",
    "axes = (100, 50) #(major_radius, minor_radius)\n",
    "angle = 45 #Angle of rotation in degrees\n",
    "\n",
    "#draw a green ellipse with thickness of 3 pixels\n",
    "cv2.ellipse(image, center, axes, angle, 0, 360, (0, 255, 0), 3)\n",
    "# cv2.ellipse(image, (200,400), axes, 0, 0, 360, (0, 255, 0), 3)\n",
    "\n",
    "#Display the image with the ellipse\n",
    "cv2.imshow(\"Image with ellipse\", image)\n",
    "cv2.waitKey(0)\n",
    "cv2.destroyAllWindows()"
   ]
  },
  {
   "cell_type": "code",
   "execution_count": null,
   "id": "4cf7d3d5-e6cd-4b5b-92df-ab63e0174875",
   "metadata": {},
   "outputs": [],
   "source": [
    "## Load an image\n",
    "image = cv2.imread(\"images/Lenna.png\")\n",
    "\n",
    "#Define center coordinates, radii, and angle\n",
    "center = (256, 256) #(X, Y)\n",
    "axes = (256, 150) #(major_radius, minor_radius)\n",
    "angle = 90 #Angle of rotation in degrees\n",
    "\n",
    "#draw a green ellipse with thickness of 3 pixels\n",
    "cv2.ellipse(image, center, axes, angle, 0, 360, (0, 255, 0), 10)\n",
    "# cv2.ellipse(image, (200,400), axes, 0, 0, 360, (0, 255, 0), 3)\n",
    "\n",
    "#Display the image with the ellipse\n",
    "cv2.imshow(\"Image with Ellipse\", image)\n",
    "cv2.waitKey(0)\n",
    "cv2.destroyAllWindows()"
   ]
  },
  {
   "cell_type": "code",
   "execution_count": null,
   "id": "55476d66-0fcc-444b-8739-4c41c522669a",
   "metadata": {},
   "outputs": [],
   "source": [
    "## Load an image\n",
    "image = cv2.imread(\"images/Lenna.png\")\n",
    "\n",
    "#Define center coordinates, radii, and angle\n",
    "center = (255, 255) #(X, Y)\n",
    "axes = (150, 255) #(major_radius, minor_radius)\n",
    "angle = 0 #Angle of rotation in degrees\n",
    "\n",
    "#draw a green ellipse with thickness of 3 pixels\n",
    "cv2.ellipse(image, center, axes, angle, 180, 360, (255, 0, 0), 10)\n",
    "cv2.ellipse(image, center, axes, angle, 0, 180, (0, 0, 255), 10)\n",
    "# cv2.ellipse(image, (200,400), axes, 0, 0, 360, (0, 255, 0), 3)\n",
    "\n",
    "#Display the image with the ellipse\n",
    "cv2.imshow(\"Image with Ellipse\", image)\n",
    "cv2.waitKey(0)\n",
    "cv2.destroyAllWindows()"
   ]
  },
  {
   "cell_type": "markdown",
   "id": "15acc7ae-6053-42eb-a826-cda422c7170b",
   "metadata": {},
   "source": [
    "## Ellipse using matplotlib"
   ]
  },
  {
   "cell_type": "code",
   "execution_count": null,
   "id": "f4c52b36-7943-41a3-ad90-75910094c97d",
   "metadata": {},
   "outputs": [],
   "source": [
    "import matplotlib.pyplot as plt\n",
    "from matplotlib.patches import Ellipse"
   ]
  },
  {
   "cell_type": "code",
   "execution_count": null,
   "id": "2aa452ad-50e1-489d-a473-1bf538dec7d1",
   "metadata": {},
   "outputs": [],
   "source": [
    "#Define center coordinates, radii, and angle\n",
    "center = (0,0)\n",
    "width = 8\n",
    "height = 5\n",
    "angle = 45\n",
    "\n",
    "#Create the ellipse objects\n",
    "ellipse = Ellipse(xy=center, width=width, height=height, angle=angle, color='blue')\n",
    "\n",
    "#Add the ellipse to the plot\n",
    "fig,ax = plt.subplots()\n",
    "ax.add_patch(ellipse)\n",
    "ax.set_aspect('equal') #Maintain equl aspect ratio for correct shape\n",
    "\n",
    "#Set limits slightly wider then elllipse\n",
    "ax.set_xlim(-width - width/5, width + width/5)\n",
    "ax.set_ylim(-height - height/5, height + height/5)\n",
    "\n",
    "#Add labels and titles\n",
    "ax.set_xlabel('X')\n",
    "ax.set_ylabel('Y')\n",
    "ax.set_title('Ellipse Plot')\n",
    "\n",
    "#Show the plot\n",
    "plt.show()"
   ]
  },
  {
   "cell_type": "code",
   "execution_count": null,
   "id": "f7d1ce85-41a5-4384-a8d5-8bd35ab20a9d",
   "metadata": {},
   "outputs": [],
   "source": [
    "import cv2\n",
    "\n",
    "image = cv2.imread('images/Lenna.png')\n",
    "\n",
    "center = (100, 100)\n",
    "radius = 50\n",
    "\n",
    "cv2.circle(image, center, radius, (127, 127, 0), 4)\n",
    "\n",
    "cv2.imshow(\"Image with Circle\", image)\n",
    "cv2.waitKey(0)\n",
    "cv2.destroyAllWindows()"
   ]
  },
  {
   "cell_type": "code",
   "execution_count": null,
   "id": "d62a9b7f-0eb1-4a7f-af6a-81010b00e0c7",
   "metadata": {},
   "outputs": [],
   "source": [
    "import cv2\n",
    "\n",
    "image = cv2.imread('images/Lenna.png')\n",
    "\n",
    "center = (256, 256)\n",
    "#radius = 256\n",
    "\n",
    "for i in range (1, 401, 5):\n",
    "    cv2.circle(image, center, i, (0, i//2, i), 2)\n",
    "\n",
    "cv2.imshow(\"Image with Circle\", image)\n",
    "cv2.waitKey(0)\n",
    "cv2.destroyAllWindows()"
   ]
  },
  {
   "cell_type": "markdown",
   "id": "b403a7fc-ff78-4781-a27d-0ef08fde34a4",
   "metadata": {},
   "source": [
    "### Circle using matplotlib"
   ]
  },
  {
   "cell_type": "code",
   "execution_count": null,
   "id": "b1fb33cd-e690-474a-a7b0-8da53ddd3b66",
   "metadata": {},
   "outputs": [],
   "source": [
    "#Define center coordinates and radius\n",
    "center = (0,0)\n",
    "radius = 3\n",
    "\n",
    "#Create the circle object\n",
    "circle = plt.Circle(xy=center, radius=radius, color='cyan')\n",
    "\n",
    "#Add the circle to the plot\n",
    "fig, ax = plt.subplots()\n",
    "ax.add_patch(circle)\n",
    "ax.set_aspect('equal') #Maintain equal aspect ratio for correct shape\n",
    "\n",
    "#Set limits slightly wider than the circle\n",
    "ax.set_xlim(-radius - radius/5, radius + radius/5)\n",
    "ax.set_ylim(-radius - radius/5, radius + radius/5)\n",
    "\n",
    "#Add labels and titles\n",
    "ax.set_xlabel('X')\n",
    "ax.set_ylabel('Y')\n",
    "ax.set_title('Circle Plot')\n",
    "\n",
    "plt.show()"
   ]
  },
  {
   "cell_type": "markdown",
   "id": "3cab4e0e-f318-4d3a-8dce-88341d777885",
   "metadata": {},
   "source": [
    "#### Canvas"
   ]
  },
  {
   "cell_type": "code",
   "execution_count": null,
   "id": "39821a09-9f57-4c6f-9603-a3a640994254",
   "metadata": {},
   "outputs": [],
   "source": [
    "from tkinter import *"
   ]
  },
  {
   "cell_type": "code",
   "execution_count": null,
   "id": "e108b55d-5425-422b-b784-b796f662935e",
   "metadata": {},
   "outputs": [],
   "source": [
    "# Create the object of UI window\n",
    "top = Tk()\n",
    "top.title('My Application')\n",
    "top.geometry('400x300')\n",
    "# Kepp it running infinitely\n",
    "top.mainloop()"
   ]
  },
  {
   "cell_type": "code",
   "execution_count": null,
   "id": "970edbba-02f8-4e35-a390-ea643c19534b",
   "metadata": {},
   "outputs": [],
   "source": [
    "# Create the object of UI window\n",
    "top = Tk()\n",
    "top.title('My Application')\n",
    "top.geometry('400x300')\n",
    "\n",
    "l = Label(text = 'Enter your Name').pack()\n",
    "e = Entry(top).pack()\n",
    "b = Button(top, text = 'Click Here').pack()\n",
    "\n",
    "# Kepp it running infinitely\n",
    "top.mainloop()"
   ]
  },
  {
   "cell_type": "code",
   "execution_count": null,
   "id": "419afb28-269e-462a-95f8-eb34dc95d848",
   "metadata": {},
   "outputs": [],
   "source": [
    "# Create the object of UI window\n",
    "top = Tk()\n",
    "top.title('My Application')\n",
    "top.geometry('400x300')\n",
    "\n",
    "def show():\n",
    "    name = e.get()\n",
    "    print('Welcome', name)\n",
    "\n",
    "l = Label(text = 'Enter your Name').pack()\n",
    "e = Entry(top)\n",
    "e.pack()\n",
    "Button(top, text = 'Click Here', command = show).pack()\n",
    "\n",
    "# Kepp it running infinitely\n",
    "top.mainloop()"
   ]
  },
  {
   "cell_type": "code",
   "execution_count": null,
   "id": "df1f711a-5494-4131-98b5-4045a51a4483",
   "metadata": {},
   "outputs": [],
   "source": [
    "# Create the object of UI window\n",
    "top = Tk()\n",
    "top.title('My Application')\n",
    "top.geometry('400x300')\n",
    "\n",
    "def show():\n",
    "    num = int(e.get())\n",
    "    print('Square is', num ** 2)\n",
    "\n",
    "l = Label(text = 'Enter your Number').pack()\n",
    "e = Entry(top)\n",
    "e.pack()\n",
    "Button(top, text = 'Find Square', command = show).pack()\n",
    "\n",
    "# Kepp it running infinitely\n",
    "top.mainloop()"
   ]
  },
  {
   "cell_type": "code",
   "execution_count": null,
   "id": "64eddff5-c956-45c0-81c6-97f9a2a8c574",
   "metadata": {},
   "outputs": [],
   "source": [
    "# Create the object of UI window\n",
    "top = Tk()\n",
    "top.title('My Application')\n",
    "top.geometry('400x300')\n",
    "\n",
    "def show():\n",
    "    num = int(e.get())\n",
    "    result.config(text = 'Square is:' + str(num ** 2))\n",
    "    #print('Square is', num ** 2)\n",
    "\n",
    "l = Label(top, text = 'Enter your Number').pack()\n",
    "e = Entry(top)\n",
    "e.pack()\n",
    "Button(top, text = 'Find Square', command = show).pack()\n",
    "result = Label(text = 'Square is:')\n",
    "result.pack()\n",
    "\n",
    "# Kepp it running infinitely\n",
    "top.mainloop()"
   ]
  },
  {
   "cell_type": "code",
   "execution_count": null,
   "id": "01b9695c-632c-44fd-9f1b-61adf22e0168",
   "metadata": {},
   "outputs": [],
   "source": [
    "# Create the object of UI window\n",
    "top = Tk()\n",
    "top.title('My Application')\n",
    "top.geometry('400x300')\n",
    "\n",
    "def show():\n",
    "    num = int(e.get())\n",
    "    result.config(text = 'Square is:' + str(num ** 2))\n",
    "    #print('Square is', num ** 2)\n",
    "\n",
    "Label(top, text = 'Enter your Number').place(x=50,y=50)\n",
    "e = Entry(top)\n",
    "e.place(x=200,y=50)\n",
    "Button(top, text = 'Find Square', command = show).place(x=50,y=120)\n",
    "result = Label(text = 'Square is:')\n",
    "result.place(x=50,y=190)\n",
    "\n",
    "# Kepp it running infinitely\n",
    "top.mainloop()"
   ]
  },
  {
   "cell_type": "code",
   "execution_count": null,
   "id": "3409eb36-2c8a-4508-84ea-d39fca77d79a",
   "metadata": {},
   "outputs": [],
   "source": [
    "# Create the object of UI window\n",
    "top = Tk()\n",
    "top.title('calculator')\n",
    "top.geometry('400x300')\n",
    "\n",
    "def show():\n",
    "    num = int(e.get())\n",
    "    result.config(text = 'Square is:' + str(num ** 2))\n",
    "    #print('Square is', num ** 2)\n",
    "\n",
    "Label(top, text = 'Enter your Number').place(x=50,y=50)\n",
    "e = Entry(top)\n",
    "e.place(x=200,y=50)\n",
    "Button(top, text = 'Find Square', command = show).place(x=50,y=120)\n",
    "result = Label(text = 'Square is:')\n",
    "result.place(x=50,y=190)\n",
    "\n",
    "# Kepp it running infinitely\n",
    "top.mainloop()"
   ]
  },
  {
   "cell_type": "code",
   "execution_count": null,
   "id": "ef12efbc-6709-4c8e-b91a-b656e2859cbe",
   "metadata": {},
   "outputs": [],
   "source": [
    "# Create the object of UI window\n",
    "top = Tk()\n",
    "top.title('calculator')\n",
    "top.geometry('400x300')\n",
    "\n",
    "def add():\n",
    "    num = int(e1.get()) + int(e2.get())\n",
    "    result.config(text = 'Sum is:' +str(num))\n",
    "def sub():\n",
    "     num = int(e1.get()) - int(e2.get())\n",
    "     result.config(text = 'Sub is:' +str(num))\n",
    "def mul():\n",
    "      num = int(e1.get()) * int(e2.get())\n",
    "      result.config(text = 'mul is:' +str(num))\n",
    "def div():\n",
    "     num = int(e1.get()) / int(e2.get())\n",
    "     result.config(text = 'div is:' +str(num))\n",
    "\n",
    "Label(top, text = 'num1:').place(x=50,y=50); e1 = Entry(top)\n",
    "e1.place(x=100,y=50)\n",
    "Label(top, text = 'num2:').place(x=200,y=50); e2 = Entry(top)\n",
    "e2.place(x=250,y=50)\n",
    "\n",
    "Button(top, text = 'add', command = add).place(x=50,y=120)\n",
    "Button(top, text = 'sub', command = sub).place(x=120,y=120)\n",
    "Button(top, text = 'mul', command = mul).place(x=190,y=120)\n",
    "Button(top, text = 'div', command = div).place(x=260,y=120)\n",
    "\n",
    "result = Label(text = 'result is:')\n",
    "result.place(x=50,y=190)\n",
    "\n",
    "# Kepp it running infinitely\n",
    "top.mainloop()"
   ]
  },
  {
   "cell_type": "code",
   "execution_count": null,
   "id": "f7410756-9a46-4b59-a98f-2a0fd3fa2661",
   "metadata": {},
   "outputs": [],
   "source": [
    "root= Tk()\n",
    "root.title(\"Drawing Canvas\")\n",
    "root.geometry('1000x800')\n",
    "\n",
    "canvas= Canvas(root,width=1000, height=800, bg=\"white\")\n",
    "canvas.pack()\n",
    "\n",
    "def draw_line(event):\n",
    "    x1,y1= event.x, event.y\n",
    "    canvas.create_line(x1,y1,x1+2,y1+2,width=2)\n",
    "\n",
    "def draw_circle(event):\n",
    "    x1,y1= event.x, event.y\n",
    "    canvas.create_oval(x1-5,y1-5,x1+5,y1+5,fill=\"yellow\")\n",
    "\n",
    "canvas.bind(\"<Button-3>\", draw_circle)\n",
    "canvas.bind(\"<B1-Motion>\", draw_line)\n",
    "\n",
    "root.mainloop()"
   ]
  },
  {
   "cell_type": "code",
   "execution_count": null,
   "id": "f5919d15-f9d6-4e2c-acbb-a49e3cf30407",
   "metadata": {},
   "outputs": [],
   "source": [
    "##mouse operation"
   ]
  },
  {
   "cell_type": "code",
   "execution_count": 48,
   "id": "dd681efa-508c-49b2-859f-47828a83ddd8",
   "metadata": {},
   "outputs": [],
   "source": [
    "img = cv2.imread('lenna.png')\n",
    "\n",
    "def draw_circle(event,x,y,flags,param):\n",
    "    if event == cv2.EVENT_LBUTTONDOWN:\n",
    "        cv2.circle(img,(x,y),10,(0,255,0),-1)\n",
    "        \n",
    "cv2.namedWindow('image')\n",
    "cv2.setMouseCallback('image',draw_circle)\n",
    "\n",
    "while True:\n",
    "    cv2.imshow('image',img)\n",
    "    if cv2.waitKey(1) == ord('q'):\n",
    "        cv2.imwrite('lenna_raj.jpg', img)\n",
    "        break\n",
    "        \n",
    "cv2.destroyAllWindows()"
   ]
  },
  {
   "cell_type": "code",
   "execution_count": null,
   "id": "f41a2e95-5858-4fed-88d3-17be613f3594",
   "metadata": {},
   "outputs": [],
   "source": [
    "#### image annotation"
   ]
  },
  {
   "cell_type": "code",
   "execution_count": 76,
   "id": "68de562b-be2e-4f33-a6cf-47b636b64b42",
   "metadata": {},
   "outputs": [],
   "source": [
    "# Define text and rectangle properties\n",
    "text = \"lenna\"\n",
    "font_face = cv2.FONT_HERSHEY_COMPLEX\n",
    "font_scale = 1.0\n",
    "color = (0, 255, 145)    \n",
    "thickness = 2\n",
    "\n",
    "# Calculate text width and height\n",
    "text_size, baseline = cv2.getTextSize(text, font_face, font_scale, thickness)\n",
    "\n",
    "# Define text and rectangle positions\n",
    "text_origin = (200,450)\n",
    "box_origin = (text_origin[0] - 10, text_origin[1] - baseline - 20)\n",
    "box_width, box_height = text_size[0] + 20, text_size[1] + 20\n",
    "\n",
    "image = cv2.imread(\"lenna.png\")\n",
    "#draw the rectangle and text\n",
    "cv2.rectangle(image, box_origin, (box_origin[0] + box_width,\n",
    "                                 box_origin[1] + box_height), color, thickness)\n",
    "cv2.putText(image, text, text_origin, font_face, font_scale, color, thickness)\n",
    "\n",
    "# Display the annotated image\n",
    "cv2.imshow(\"Image\", image)\n",
    "cv2.waitKey(0)\n",
    "cv2.destroyAllWindows()"
   ]
  },
  {
   "cell_type": "code",
   "execution_count": 81,
   "id": "16a40eb0-e8bf-435a-960b-64e58f6466d8",
   "metadata": {},
   "outputs": [
    {
     "data": {
      "image/png": "[encoded data removed]",
      "text/plain": [
       "<Figure size 640x480 with 1 Axes>"
      ]
     },
     "metadata": {},
     "output_type": "display_data"
    }
   ],
   "source": [
    "import matplotlib.pyplot as plt\n",
    "\n",
    "x=[1,2,3]\n",
    "y=[2,5,1]\n",
    "\n",
    "plt.plot(x,y, marker = 'o')\n",
    "plt.text(2,5,\"Ojas at Pune\", fontsize=14, color=\"red\")\n",
    "plt.text(1.1,2,\"Ojas's Aura\", fontsize=14, color=\"yellow\")\n",
    "plt.text(3,1.1,\"Ojas at CDAC\", fontsize=10, color=\"blue\")\n",
    "\n",
    "plt.title(\"Ratna from Ratnagiri\")\n",
    "plt.xlabel(\"x-axis\")\n",
    "plt.ylabel(\"y-axis\")\n",
    "plt.show()"
   ]
  },
  {
   "cell_type": "code",
   "execution_count": 85,
   "id": "11e21f86-3cf8-44e6-a7c3-fd1d917f1cbc",
   "metadata": {},
   "outputs": [
    {
     "data": {
      "text/plain": [
       "Text(0.5, 1.0, 'Nicknames Importance')"
      ]
     },
     "execution_count": 85,
     "metadata": {},
     "output_type": "execute_result"
    },
    {
     "data": {
      "image/png": "[encoded data removed]",
      "text/plain": [
       "<Figure size 640x480 with 1 Axes>"
      ]
     },
     "metadata": {},
     "output_type": "display_data"
    }
   ],
   "source": [
    "plt.plot(x,y, marker = '*', color = 'red')\n",
    "plt.annotate(\"Adarsh:AFCAT\", (2,5), xytext=(1.5, 5.5),\n",
    "            arrowprops=dict(edgecolor='green', facecolor = 'yellow'))\n",
    "plt.annotate(\"Venky:Ravikant\", (1.02,2), xytext=(1.25, 1.5),\n",
    "            arrowprops=dict(edgecolor='magenta', facecolor = 'blue'))\n",
    "plt.annotate(\"Akash:Waghch\", (3,1), xytext=(2.5, 1.1),\n",
    "            arrowprops=dict(edgecolor='black', facecolor = 'pink'))\n",
    "\n",
    "plt.title(\"Nicknames Importance\")"
   ]
  },
  {
   "cell_type": "code",
   "execution_count": null,
   "id": "0f0c6c39-718f-49ec-aa24-8c565b923d3b",
   "metadata": {},
   "outputs": [],
   "source": []
  }
 ],
 "metadata": {
  "kernelspec": {
   "display_name": "Python 3 (ipykernel)",
   "language": "python",
   "name": "python3"
  },
  "language_info": {
   "codemirror_mode": {
    "name": "ipython",
    "version": 3
   },
   "file_extension": ".py",
   "mimetype": "text/x-python",
   "name": "python",
   "nbconvert_exporter": "python",
   "pygments_lexer": "ipython3",
   "version": "3.12.4"
  }
 },
 "nbformat": 4,
 "nbformat_minor": 5
}
