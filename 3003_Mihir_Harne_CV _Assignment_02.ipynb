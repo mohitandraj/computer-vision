{
 "cells": [
  {
   "cell_type": "markdown",
   "id": "4d390c6c-21cc-4852-af9b-f979efff2a6b",
   "metadata": {
    "jp-MarkdownHeadingCollapsed": true
   },
   "source": [
    "<h4>Importing lib</h4>"
   ]
  },
  {
   "cell_type": "code",
   "execution_count": 20,
   "id": "40151824-59d9-423f-9505-6ea1ce8f16ed",
   "metadata": {},
   "outputs": [],
   "source": [
    "import cv2"
   ]
  },
  {
   "cell_type": "markdown",
   "id": "2f216a36-8361-47d5-9b16-06c891de6552",
   "metadata": {
    "jp-MarkdownHeadingCollapsed": true
   },
   "source": [
    "<h4>loading the image</h4>"
   ]
  },
  {
   "cell_type": "code",
   "execution_count": 22,
   "id": "9ad114c5-516d-4689-91b8-d9ac65a1b5cf",
   "metadata": {},
   "outputs": [],
   "source": [
    "image = cv2.imread('sachin.jpg')\n",
    "height, width = image.shape[:2]"
   ]
  },
  {
   "cell_type": "markdown",
   "id": "84f391a8-69d6-4c02-900f-22d8af92b753",
   "metadata": {
    "jp-MarkdownHeadingCollapsed": true
   },
   "source": [
    "<h4>1. Line from 0,0 to the center of the image  </h4> \n",
    "<h4>2. A rectangle from 50, 50 pixel with height of 400 and width of 300with red color.</h4>\n",
    "<h4>3. An ellipse covering top right corner part of the image.</h4>\n",
    "<h4>4. A circle with center 500, 300 with perimeter of 200 pixels.</h4>"
   ]
  },
  {
   "cell_type": "code",
   "execution_count": 24,
   "id": "c35fa59a-03a9-4449-87be-18914d18e795",
   "metadata": {},
   "outputs": [],
   "source": [
    "center_x, center_y = width // 2, height // 2\n",
    "cv2.line(image, (0, 0), (center_x, center_y), (255, 0, 0), 2)\n",
    "\n",
    "cv2.rectangle(image, (50, 50), (50 + 300, 50 + 400), (0, 0, 255), 2)\n",
    "\n",
    "cv2.ellipse(image, (width - 100, 100), (150, 100), 0, 0, 360, (0, 255, 0), 2)\n",
    "\n",
    "cv2.circle(image, (500, 300), 100, (255, 255, 0), 2)\n",
    "\n",
    "cv2.imshow('Graphics', image)\n",
    "cv2.waitKey(0)\n",
    "cv2.destroyAllWindows()"
   ]
  },
  {
   "cell_type": "markdown",
   "id": "a46f4957-44ca-40cd-8101-6fe9348aeb24",
   "metadata": {
    "jp-MarkdownHeadingCollapsed": true
   },
   "source": [
    "<h4>2. Demonstrate different types of mouse operations by drawing linesand circle over the image using mouse with yellow color.</h4>"
   ]
  },
  {
   "cell_type": "code",
   "execution_count": 28,
   "id": "fc4028b6-574b-4716-bbec-b947962622ab",
   "metadata": {},
   "outputs": [],
   "source": [
    "def draw_shapes(event, x, y, flags, param):\n",
    "    if event == cv2.EVENT_LBUTTONDOWN: \n",
    "        cv2.circle(image, (x, y), 20, (0, 255, 255), -1)\n",
    "    elif event == cv2.EVENT_RBUTTONDOWN:  \n",
    "        cv2.line(image, (x - 20, y - 20), (x + 20, y + 20), (0, 255, 255), 2)\n",
    "    cv2.imshow('Mouse Operations', image)\n",
    "\n",
    "image = cv2.imread('sachin.jpg')\n",
    "cv2.imshow('Mouse Operations', image)\n",
    "cv2.setMouseCallback('Mouse Operations', draw_shapes)\n",
    "cv2.waitKey(0)\n",
    "cv2.destroyAllWindows()\n"
   ]
  },
  {
   "cell_type": "markdown",
   "id": "f018e992-640b-4792-8946-494af59c3944",
   "metadata": {
    "jp-MarkdownHeadingCollapsed": true
   },
   "source": [
    "<h4>3.1 Write the ‘Sachin Tendulkar’ on the top left corner with yellowcolor.</h4>"
   ]
  },
  {
   "cell_type": "code",
   "execution_count": 31,
   "id": "d8c0f218-587d-4c20-8ae8-cbf5af1e034b",
   "metadata": {},
   "outputs": [],
   "source": [
    "cv2.putText(image, 'Sachin Tendulkar', (10, 30), cv2.FONT_HERSHEY_SIMPLEX, 1, (0, 255, 255), 2)\n",
    "\n",
    "cv2.rectangle(image, (width - 250, height - 100), (width - 10, height - 10), (0, 255, 0), -1)\n",
    "cv2.putText(image, 'Little Master', (width - 240, height - 30), cv2.FONT_HERSHEY_SIMPLEX, 1, (0, 0, 255), 2)\n",
    "\n",
    "cv2.imshow('Annotated Image', image)\n",
    "cv2.waitKey(0)\n",
    "cv2.destroyAllWindows()\n"
   ]
  },
  {
   "cell_type": "markdown",
   "id": "2f54bd13-6816-49d9-a709-d6c50de8da2e",
   "metadata": {
    "jp-MarkdownHeadingCollapsed": true
   },
   "source": [
    "<h4>3.2 Write “Little Master” in a rectangle at bottom right with red colorand green rectangle.</h4>"
   ]
  },
  {
   "cell_type": "code",
   "execution_count": null,
   "id": "20c2e62f-fa5b-40a5-a6ba-7d1faa1d1ff7",
   "metadata": {},
   "outputs": [],
   "source": [
    "M = np.float32([[1, 0, 400], [0, 1, -150]])\n",
    "translated = cv2.warpAffine(image, M, (width, height))\n",
    "\n",
    "cv2.imshow('Translated Image', translated)\n",
    "cv2.waitKey(0)\n",
    "cv2.destroyAllWindows()\n"
   ]
  },
  {
   "cell_type": "markdown",
   "id": "069c9317-f47e-48c2-97b5-ed0a70a5e687",
   "metadata": {
    "jp-MarkdownHeadingCollapsed": true
   },
   "source": [
    "<h4>4. Apply following transformations on the image.</h4>\n",
    "<h4>4.1 Translate the image towards right by 400 and up by 150 pixels.</h4>"
   ]
  },
  {
   "cell_type": "code",
   "execution_count": null,
   "id": "6394f673-578d-48ef-a0f7-2bd7a639d392",
   "metadata": {},
   "outputs": [],
   "source": [
    "M = cv2.getRotationMatrix2D((center_x, center_y), 60, 1)\n",
    "rotated = cv2.warpAffine(image, M, (width, height))\n",
    "\n",
    "cv2.imshow('Rotated Image', rotated)\n",
    "cv2.waitKey(0)\n",
    "cv2.destroyAllWindows()\n"
   ]
  },
  {
   "cell_type": "markdown",
   "id": "4d9c2cc5-6f85-46ab-ae63-98baa67c6674",
   "metadata": {
    "jp-MarkdownHeadingCollapsed": true
   },
   "source": [
    "<h4>4.2 Rotate the image 60 degrees anti clockwise.</h4>"
   ]
  },
  {
   "cell_type": "code",
   "execution_count": 47,
   "id": "574a1051-5468-444c-9fb7-02093b14bf2d",
   "metadata": {},
   "outputs": [],
   "source": [
    "M = cv2.getRotationMatrix2D((center_x, center_y), 60, 1)\n",
    "rotated = cv2.warpAffine(image, M, (width, height))\n",
    "\n",
    "cv2.imshow('Rotated Image', rotated)\n",
    "cv2.waitKey(0)\n",
    "cv2.destroyAllWindows()\n"
   ]
  },
  {
   "cell_type": "markdown",
   "id": "6a6b9aa5-8f8a-4901-a761-193ee7110cf8",
   "metadata": {
    "jp-MarkdownHeadingCollapsed": true
   },
   "source": [
    "<h4>4.3 Resize the image to 75% of original dimensions.</h4>"
   ]
  },
  {
   "cell_type": "code",
   "execution_count": null,
   "id": "b843bbf4-151e-49fa-b8e7-f2d704e05c21",
   "metadata": {},
   "outputs": [],
   "source": [
    "resized = cv2.resize(image, (int(width * 0.75), int(height * 0.75)))\n",
    "\n",
    "cv2.imshow('Resized Image', resized)\n",
    "cv2.waitKey(0)\n",
    "cv2.destroyAllWindows()\n"
   ]
  },
  {
   "cell_type": "markdown",
   "id": "3c4a28f7-0c8c-4eab-9bcc-0c42efa43f49",
   "metadata": {
    "jp-MarkdownHeadingCollapsed": true
   },
   "source": [
    "<h4>4.4 Flip the image horizontally, diagonally and vertically. Show all fourimages in the row.</h4>"
   ]
  },
  {
   "cell_type": "code",
   "execution_count": null,
   "id": "0a1dff59-901d-46bf-aae5-e73d890e8109",
   "metadata": {},
   "outputs": [],
   "source": [
    "flipped_h = cv2.flip(image, 1)\n",
    "flipped_v = cv2.flip(image, 0)\n",
    "flipped_d = cv2.flip(image, -1)\n",
    "\n",
    "cv2.imshow('Flipped Horizontally', flipped_h)\n",
    "cv2.imshow('Flipped Vertically', flipped_v)\n",
    "cv2.imshow('Flipped Diagonally', flipped_d)\n",
    "cv2.waitKey(0)\n",
    "cv2.destroyAllWindows()\n"
   ]
  },
  {
   "cell_type": "markdown",
   "id": "add43775-bf93-4887-8d17-fed7864254be",
   "metadata": {
    "jp-MarkdownHeadingCollapsed": true
   },
   "source": [
    "<h4>4.5 Crop the image at, 500,300 to 560, 400 and save in another file</h4>"
   ]
  },
  {
   "cell_type": "code",
   "execution_count": null,
   "id": "070f73bc-8e9a-467d-b686-4efa639aa700",
   "metadata": {},
   "outputs": [],
   "source": [
    "cropped = image[300:400, 500:560]\n",
    "\n",
    "cv2.imwrite('cropped_image.jpg', cropped)\n",
    "cv2.imshow('Cropped Image', cropped)\n",
    "cv2.waitKey(0)\n",
    "cv2.destroyAllWindows()\n"
   ]
  }
 ],
 "metadata": {
  "kernelspec": {
   "display_name": "Python 3 (ipykernel)",
   "language": "python",
   "name": "python3"
  },
  "language_info": {
   "codemirror_mode": {
    "name": "ipython",
    "version": 3
   },
   "file_extension": ".py",
   "mimetype": "text/x-python",
   "name": "python",
   "nbconvert_exporter": "python",
   "pygments_lexer": "ipython3",
   "version": "3.12.4"
  }
 },
 "nbformat": 4,
 "nbformat_minor": 5
}
